{
  "nbformat": 4,
  "nbformat_minor": 0,
  "metadata": {
    "colab": {
      "provenance": []
    },
    "kernelspec": {
      "name": "python3",
      "display_name": "Python 3"
    },
    "language_info": {
      "name": "python"
    }
  },
  "cells": [
    {
      "cell_type": "code",
      "execution_count": null,
      "metadata": {
        "id": "5zJr6nEuzn_8"
      },
      "outputs": [],
      "source": [
        "# This Python 3 environment comes with many helpful analytics libraries installed\n",
        "# It is defined by the kaggle/python Docker image: https://github.com/kaggle/docker-python\n",
        "# For example, here's several helpful packages to load\n",
        "\n",
        "import numpy as np # linear algebra\n",
        "import pandas as pd # data processing, CSV file I/O (e.g. pd.read_csv)\n",
        "\n",
        "# Input data files are available in the read-only \"../input/\" directory\n",
        "# For example, running this (by clicking run or pressing Shift+Enter) will list all files under the input directory\n",
        "\n",
        "import os\n",
        "for dirname, _, filenames in os.walk('/kaggle/input'):\n",
        "    for filename in filenames:\n",
        "        print(os.path.join(dirname, filename))\n",
        "\n",
        "# You can write up to 20GB to the current directory (/kaggle/working/) that gets preserved as output when you create a version using \"Save & Run All\" \n",
        "# You can also write temporary files to /kaggle/temp/, but they won't be saved outside of the current session\n"
      ]
    },
    {
      "cell_type": "code",
      "source": [],
      "metadata": {
        "id": "yk0cro0lA-NE"
      },
      "execution_count": null,
      "outputs": []
    },
    {
      "cell_type": "code",
      "source": [
        "from google.colab import drive\n",
        "drive.mount('/content/drive')"
      ],
      "metadata": {
        "id": "fZF_Yr9kDU2e"
      },
      "execution_count": null,
      "outputs": []
    },
    {
      "cell_type": "code",
      "source": [
        "pip install pandas"
      ],
      "metadata": {
        "id": "xXiWUSGtDeON"
      },
      "execution_count": null,
      "outputs": []
    },
    {
      "cell_type": "code",
      "source": [
        "import pandas as pd\n",
        "\n",
        "from pandas.core.indexes.datetimes import date_range\n",
        "import pandas as pd\n",
        "\n",
        "data = pd.read_csv('/content/drive/MyDrive/Project/general_data.csv')\n",
        "data.head()\n"
      ],
      "metadata": {
        "id": "aCUtE32D9mPF"
      },
      "execution_count": null,
      "outputs": []
    },
    {
      "cell_type": "code",
      "source": [
        "import pandas as pd\n",
        "\n",
        "from pandas.core.indexes.datetimes import date_range\n",
        "import pandas as pd\n",
        "\n",
        "data = pd.read_csv('/content/drive/MyDrive/Project/employee_survey_data.csv')\n",
        "data.head()\n"
      ],
      "metadata": {
        "id": "97fk0KpTEcLF"
      },
      "execution_count": null,
      "outputs": []
    },
    {
      "cell_type": "code",
      "source": [
        "import pandas as pd\n",
        "\n",
        "from pandas.core.indexes.datetimes import date_range\n",
        "import pandas as pd\n",
        "\n",
        "data = pd.read_csv('/content/drive/MyDrive/Project/manager_survey_data.csv')\n",
        "data.head()"
      ],
      "metadata": {
        "id": "FISGxsQvEb7T"
      },
      "execution_count": null,
      "outputs": []
    },
    {
      "cell_type": "code",
      "source": [
        "general_data = pd.read_csv('/content/drive/MyDrive/Project/general_data.csv')\n",
        "manager_survey_data = pd.read_csv('/content/drive/MyDrive/Project/manager_survey_data.csv')\n",
        "employee_survey_data = pd.read_csv('/content/drive/MyDrive/Project/employee_survey_data.csv')\n",
        "\n",
        "main_data = general_data.join([manager_survey_data.drop('EmployeeID', axis=1),\n",
        "                               employee_survey_data.drop('EmployeeID', axis=1)])\n",
        "\n",
        "main_data.drop('EmployeeID', axis=1, inplace=True)\n",
        "main_data.head()"
      ],
      "metadata": {
        "id": "ihB7P68AFV-i"
      },
      "execution_count": null,
      "outputs": []
    },
    {
      "cell_type": "code",
      "source": [
        "main_data.info()\n"
      ],
      "metadata": {
        "id": "F7a8xexEGPI5"
      },
      "execution_count": null,
      "outputs": []
    },
    {
      "cell_type": "code",
      "source": [
        "main_data.nunique()"
      ],
      "metadata": {
        "id": "LynJLETpGO-z"
      },
      "execution_count": null,
      "outputs": []
    },
    {
      "cell_type": "markdown",
      "source": [
        "JOB SATISFACTION using ordinal regression"
      ],
      "metadata": {
        "id": "IyyCo5GVGymv"
      }
    },
    {
      "cell_type": "code",
      "source": [
        "import pandas as pd\n",
        "import numpy as np\n",
        "from statsmodels.miscmodels.ordinal_model import OrderedModel\n",
        "pd.set_option('display.max_columns', None)\n",
        "pd.set_option('display.max_rows', None)\n",
        "import warnings\n",
        "warnings.filterwarnings(\"ignore\")"
      ],
      "metadata": {
        "id": "wvDtYwdAGO2M"
      },
      "execution_count": null,
      "outputs": []
    },
    {
      "cell_type": "code",
      "source": [
        "emp_survey = pd.read_csv('/content/drive/MyDrive/Project/employee_survey_data.csv')\n",
        "general_data = pd.read_csv('/content/drive/MyDrive/Project/general_data.csv')\n",
        "emp_survey.info()"
      ],
      "metadata": {
        "id": "tkfCUiuxGuyI"
      },
      "execution_count": null,
      "outputs": []
    },
    {
      "cell_type": "code",
      "source": [
        "general_data.info()"
      ],
      "metadata": {
        "id": "rjTt1wMgGuut"
      },
      "execution_count": null,
      "outputs": []
    },
    {
      "cell_type": "code",
      "source": [
        "complete_data = emp_survey.merge(right = general_data,\n",
        "                                 how = 'inner',\n",
        "                                 on = 'EmployeeID')\n",
        "complete_data.info()"
      ],
      "metadata": {
        "id": "3xlPuRynGukJ"
      },
      "execution_count": null,
      "outputs": []
    },
    {
      "cell_type": "code",
      "source": [
        "complete_data = complete_data.drop(['EmployeeID', 'EmployeeCount'], axis = 1)\n",
        "complete_data['NumCompaniesWorked'].value_counts()"
      ],
      "metadata": {
        "id": "X5OhPf94HUAK"
      },
      "execution_count": null,
      "outputs": []
    },
    {
      "cell_type": "code",
      "source": [
        "complete_data['EnvironmentSatisfaction'] =complete_data['EnvironmentSatisfaction'].fillna(2)\n",
        "complete_data['JobSatisfaction'] = complete_data['JobSatisfaction'].fillna(2)\n",
        "complete_data['WorkLifeBalance'] = complete_data['WorkLifeBalance'].fillna(2)\n",
        "complete_data['NumCompaniesWorked'] = complete_data['NumCompaniesWorked'].fillna(1)\n",
        "complete_data['NumCompaniesWorked'] = complete_data['NumCompaniesWorked'].replace(0,1) #current company\n",
        "numeric_cols = complete_data.select_dtypes(['int64','float64'])\n",
        "numeric_cols.head()"
      ],
      "metadata": {
        "id": "Q0kFF8CzHdvO"
      },
      "execution_count": null,
      "outputs": []
    },
    {
      "cell_type": "code",
      "source": [
        "complete_data['StandardHours'].value_counts()"
      ],
      "metadata": {
        "id": "ER7V26I_Hdoe"
      },
      "execution_count": null,
      "outputs": []
    },
    {
      "cell_type": "code",
      "source": [
        "complete_data['PercentSalaryHike'] = complete_data['PercentSalaryHike']/100\n",
        "complete_data = complete_data.drop('StandardHours', axis = 1)\n",
        "numeric_cols.columns.to_list()"
      ],
      "metadata": {
        "id": "h1jfOT0cHdiU"
      },
      "execution_count": null,
      "outputs": []
    },
    {
      "cell_type": "code",
      "source": [
        "categorical_cols = complete_data.select_dtypes(['object'])\n",
        "categorical_cols.columns.to_list()"
      ],
      "metadata": {
        "id": "PqFmg_3DIL8q"
      },
      "execution_count": null,
      "outputs": []
    },
    {
      "cell_type": "code",
      "source": [
        "probit = OrderedModel.from_formula(formula = 'JobSatisfaction ~ EnvironmentSatisfaction + \\\n",
        "                                   WorkLifeBalance + Age + DistanceFromHome + Education + JobLevel + \\\n",
        "                                   MonthlyIncome + NumCompaniesWorked + PercentSalaryHike + \\\n",
        "                                   StockOptionLevel + TotalWorkingYears + TrainingTimesLastYear + \\\n",
        "                                   YearsAtCompany + YearsSinceLastPromotion + YearsWithCurrManager + \\\n",
        "                                   C(Attrition) + C(BusinessTravel) + C(Department) + C(EducationField) + \\\n",
        "                                   C(Gender) + C(JobRole) + C(MaritalStatus) + C(Over18)', data = complete_data, distr  = 'probit')\n",
        "results = probit.fit()"
      ],
      "metadata": {
        "id": "uRTYZrceILx9"
      },
      "execution_count": null,
      "outputs": []
    },
    {
      "cell_type": "code",
      "source": [
        "results.summary()"
      ],
      "metadata": {
        "id": "W0jxYdQ8ILq9"
      },
      "execution_count": null,
      "outputs": []
    },
    {
      "cell_type": "markdown",
      "source": [
        "Analysis"
      ],
      "metadata": {
        "id": "WhgBVLAmIqAu"
      }
    },
    {
      "cell_type": "code",
      "source": [
        "main_data['Attrition'].value_counts().plot(kind='bar')"
      ],
      "metadata": {
        "id": "BqYhBiArIewb"
      },
      "execution_count": null,
      "outputs": []
    },
    {
      "cell_type": "code",
      "source": [
        "main_data['Attrition'].value_counts()"
      ],
      "metadata": {
        "id": "c_2wiZeJIeok"
      },
      "execution_count": null,
      "outputs": []
    },
    {
      "cell_type": "code",
      "source": [
        "main_data['NumCompaniesWorked'].fillna(main_data['NumCompaniesWorked'].mode()[0],inplace= True)\n",
        "main_data['EnvironmentSatisfaction'].fillna(main_data['EnvironmentSatisfaction'].mean(),inplace= True)\n",
        "\n",
        "main_data['JobSatisfaction'].fillna(main_data['JobSatisfaction'].mean(), inplace=True)\n",
        "main_data['WorkLifeBalance'].fillna(main_data['WorkLifeBalance'].mean(), inplace=True)\n",
        "main_data.isnull().sum()"
      ],
      "metadata": {
        "id": "E8tEwNr_Iefz"
      },
      "execution_count": null,
      "outputs": []
    },
    {
      "cell_type": "code",
      "source": [
        "import pandas as pd\n",
        "def PlotBarCharts (inpData, colsToPlot):\n",
        "    %matplotlib inline\n",
        "    \n",
        "    import matplotlib.pyplot as plt\n",
        "    \n",
        "    \n",
        "    fig,subplot= plt.subplots(nrows= 1, ncols=len(colsToPlot), figsize=(10,5))\n",
        "    fig.suptitle('Bar Charts Of'+ str(colsToPlot))\n",
        "    \n",
        "    for colName, i in zip(colsToPlot, range(len(colsToPlot))):\n",
        "        inpData.groupby(colsToPlot).size().plot(kind='bar',ax = subplot[i])\n",
        "PlotBarCharts(inpData=main_data, colsToPlot=['BusinessTravel','Department','EducationField'])"
      ],
      "metadata": {
        "id": "bcT9z4LWJB7M"
      },
      "execution_count": null,
      "outputs": []
    },
    {
      "cell_type": "code",
      "source": [
        "\n",
        "def FunctionChisq(inpData, TargetVariable, CategoricalVariablesList):\n",
        "    from scipy.stats import chi2_contingency\n",
        "    \n",
        "    # Creating an empty list of final selected predictors\n",
        "    SelectedPredictors=[]\n",
        "\n",
        "    for predictor in CategoricalVariablesList:\n",
        "        CrossTabResult=pd.crosstab(index=inpData[TargetVariable], columns=inpData[predictor])\n",
        "        ChiSqResult = chi2_contingency(CrossTabResult)\n",
        "        \n",
        "        # If the ChiSq P-Value is <0.05, that means we reject H0\n",
        "        if (ChiSqResult[1] < 0.05):\n",
        "            print(predictor, 'is correlated with', TargetVariable, '| P-Value:', ChiSqResult[1])\n",
        "            SelectedPredictors.append(predictor)\n",
        "        else:\n",
        "            print(predictor, 'is NOT correlated with', TargetVariable, '| P-Value:', ChiSqResult[1])        \n",
        "            \n",
        "    return(SelectedPredictors)"
      ],
      "metadata": {
        "id": "cpPdG_gCJBwo"
      },
      "execution_count": null,
      "outputs": []
    },
    {
      "cell_type": "code",
      "source": [
        "CategoricalVariables=['BusinessTravel','Department','EducationField','EmployeeCount',\n",
        "                      'Gender','JobLevel' , 'JobRole','MaritalStatus','NumCompaniesWorked',\n",
        "                      'Over18','PercentSalaryHike','StandardHours','StockOptionLevel',\n",
        "                      'TrainingTimesLastYear','JobInvolvement', 'PerformanceRating' ,\n",
        "                      'EnvironmentSatisfaction',\n",
        "                      'JobSatisfaction','WorkLifeBalance' ]\n",
        "\n",
        "# Calling the function\n",
        "FunctionChisq(inpData=main_data, \n",
        "              TargetVariable='Attrition',\n",
        "              CategoricalVariablesList= CategoricalVariables)"
      ],
      "metadata": {
        "id": "gdWqY9qnJy9p"
      },
      "execution_count": null,
      "outputs": []
    },
    {
      "cell_type": "code",
      "source": [
        "#'EmployeeCount''Gender','JobLevel' 'Over18','PercentSalaryHike','StandardHours','StockOptionLevel'\n",
        "#'PerformanceRating'\n",
        "\n",
        "main_data.drop(['EmployeeCount','Gender','JobLevel', 'Over18',\n",
        "                'PercentSalaryHike','StandardHours','StockOptionLevel',\n",
        "                'PerformanceRating'],axis=1, inplace= True)\n",
        "main_data.head()"
      ],
      "metadata": {
        "id": "Z0XjTVbMJyv-"
      },
      "execution_count": null,
      "outputs": []
    },
    {
      "cell_type": "code",
      "source": [
        "def FunctionAnova(inpData, TargetVariable, ContinousVariable):\n",
        "    from scipy.stats import f_oneway\n",
        "    \n",
        "    SelectedPredictors=[]\n",
        "    \n",
        "    for predictor in ContinousVariable:\n",
        "        CategoryList= inpData.groupby(TargetVariable)[predictor].apply(list)\n",
        "        AnnovaResults = f_oneway(*CategoryList)\n",
        "        \n",
        "        \n",
        "        if (AnnovaResults[1] < 0.05):\n",
        "            print(predictor, 'is corelated to the ',TargetVariable ,'|p Value', AnnovaResults[1])\n",
        "            SelectedPredictors.append(predictor)\n",
        "        else:\n",
        "            print(predictor, 'is not corelated to the ',TargetVariable ,'|p Value', AnnovaResults[1])\n",
        "            \n",
        "    return(SelectedPredictors)"
      ],
      "metadata": {
        "id": "BiEC4yBVKB99"
      },
      "execution_count": null,
      "outputs": []
    },
    {
      "cell_type": "code",
      "source": [
        "ContinuousData=['Age','DistanceFromHome','MonthlyIncome','TotalWorkingYears','YearsAtCompany']\n",
        "\n",
        "# Calling the function\n",
        "FunctionAnova(inpData=main_data, \n",
        "              TargetVariable='Attrition',\n",
        "              ContinousVariable= ContinuousData)"
      ],
      "metadata": {
        "id": "Rj1ZOPF1Jyi6"
      },
      "execution_count": null,
      "outputs": []
    },
    {
      "cell_type": "code",
      "source": [
        "main_data.head()"
      ],
      "metadata": {
        "id": "HmS_rll8JydZ"
      },
      "execution_count": null,
      "outputs": []
    },
    {
      "cell_type": "code",
      "source": [
        "main_data.hist(['Age', 'MonthlyIncome', 'YearsAtCompany'],figsize=(18,6))"
      ],
      "metadata": {
        "id": "NWmfWtjWKhg7"
      },
      "execution_count": null,
      "outputs": []
    },
    {
      "cell_type": "code",
      "source": [
        "main_data = pd.get_dummies(main_data, columns=['BusinessTravel', 'Department', 'EducationField', \n",
        "                                               'JobRole', 'MaritalStatus'])\n",
        "main_data.nunique()"
      ],
      "metadata": {
        "id": "aLL2M1LcKhX0"
      },
      "execution_count": null,
      "outputs": []
    },
    {
      "cell_type": "code",
      "source": [
        "Predictors=['Age','Education','MonthlyIncome','NumCompaniesWorked','TrainingTimesLastYear',\n",
        "            'YearsAtCompany', 'YearsSinceLastPromotion','YearsWithCurrManager','JobInvolvement',\n",
        "            'EnvironmentSatisfaction','JobSatisfaction','WorkLifeBalance','BusinessTravel_Non-Travel',\n",
        "            'BusinessTravel_Travel_Frequently','BusinessTravel_Travel_Rarely','Department_Human Resources',\n",
        "'Department_Research & Development','Department_Sales','EducationField_Human Resources',\n",
        "'EducationField_Life Sciences','EducationField_Marketing','EducationField_Medical',                  \n",
        "'EducationField_Other','EducationField_Technical Degree',         \n",
        "'JobRole_Healthcare Representative',       \n",
        "'JobRole_Human Resources','JobRole_Laboratory Technician',          \n",
        "'JobRole_Manager','JobRole_Manufacturing Director',\n",
        "'JobRole_Research Director','JobRole_Research Scientist',              \n",
        "'JobRole_Sales Executive','JobRole_Sales Representative',           \n",
        "'MaritalStatus_Divorced','MaritalStatus_Married', 'MaritalStatus_Single'  ]\n",
        "\n",
        "TargetVariable ='Attrition'\n",
        "X= main_data[Predictors].values\n",
        "y=main_data[TargetVariable].values"
      ],
      "metadata": {
        "id": "N1li2wTmK_aO"
      },
      "execution_count": null,
      "outputs": []
    },
    {
      "cell_type": "code",
      "source": [
        "X.shape"
      ],
      "metadata": {
        "id": "YAHSs_vJKhMu"
      },
      "execution_count": null,
      "outputs": []
    },
    {
      "cell_type": "code",
      "source": [
        "y.shape"
      ],
      "metadata": {
        "id": "5dvpqEmmJyVk"
      },
      "execution_count": null,
      "outputs": []
    },
    {
      "cell_type": "code",
      "source": [
        "from sklearn.model_selection import train_test_split\n",
        "from sklearn.metrics import accuracy_score\n",
        "\n",
        "import warnings\n",
        "warnings.filterwarnings('ignore')\n",
        "X_train , X_test , y_train, y_test = train_test_split(X , y , train_size = 0.8 , random_state = 2)"
      ],
      "metadata": {
        "id": "NQ-hlCUdLYyy"
      },
      "execution_count": null,
      "outputs": []
    },
    {
      "cell_type": "code",
      "source": [
        "import seaborn as sns\n",
        "import matplotlib.pyplot as plt\n",
        "plt.figure(figsize=(8, 6), dpi=80)\n",
        "features_corr = pd.DataFrame(X_train).corr()\n",
        "sns.heatmap(features_corr)"
      ],
      "metadata": {
        "id": "2Q9ibHIuLYcs"
      },
      "execution_count": null,
      "outputs": []
    },
    {
      "cell_type": "code",
      "source": [
        "from sklearn.linear_model import LogisticRegression\n",
        "model = LogisticRegression() # Changing Line in the code\n",
        "\n",
        "model.fit(X_train , y_train)\n",
        "y_pred = model.predict(X_test)\n",
        "\n",
        "accuracy_score(y_test, y_pred)"
      ],
      "metadata": {
        "id": "lMcLGQcNLYTP"
      },
      "execution_count": null,
      "outputs": []
    },
    {
      "cell_type": "code",
      "source": [
        "from sklearn.ensemble import RandomForestClassifier\n",
        "\n",
        "model = RandomForestClassifier()\n",
        "model.fit(X_train , y_train)\n",
        "y_pred = model.predict(X_test)\n",
        "\n",
        "accuracy_score(y_test, y_pred)"
      ],
      "metadata": {
        "id": "Pm3CGIPoLYGS"
      },
      "execution_count": null,
      "outputs": []
    },
    {
      "cell_type": "code",
      "source": [
        "df_predicted=pd.DataFrame()\n",
        "df_predicted['Actual']=y_test\n",
        "df_predicted['Predicted']=y_pred\n",
        "df_predicted"
      ],
      "metadata": {
        "id": "73B9AN9LLpVu"
      },
      "execution_count": null,
      "outputs": []
    },
    {
      "cell_type": "code",
      "source": [],
      "metadata": {
        "id": "9mrnS8j9LpNT"
      },
      "execution_count": null,
      "outputs": []
    },
    {
      "cell_type": "code",
      "source": [],
      "metadata": {
        "id": "S34-Pl1NLpD_"
      },
      "execution_count": null,
      "outputs": []
    }
  ]
}